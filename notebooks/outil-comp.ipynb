{
 "cells": [
  {
   "cell_type": "code",
   "execution_count": 5,
   "metadata": {},
   "outputs": [
    {
     "name": "stdout",
     "output_type": "stream",
     "text": [
     
     ]
    },
    {
     "data": {
      "application/vnd.jupyter.widget-view+json": {
       "model_id": "62643c23d11c4ad58e3d8a360ef56014",
       "version_major": 2,
       "version_minor": 0
      },
      "text/plain": [
      ]
     },
     "metadata": {},
     "output_type": "display_data"
    },
    {
     "data": {
      "text/html": [
       "<div style=\"display: none\"></div>"
      ],
      "text/plain": [
       "Column\n",
       "    [0] Row\n",
       "        [0] Markdown(str)\n",
       "        [1] ParamFunction(function, _pane=Str, defer_load=False, width=600)\n",
       "    [1] HoloViews(DynamicMap, height=400, sizing_mode='fixed', width=600)\n",
       "    [2] Column\n",
       "        [0] Row\n",
       "            [0] IntSlider(end=3000, name='mensualité emprunt', start=500, value=2000)\n",
       "            [1] IntSlider(end=600000, name=\"prix d'achat\", start=200000, value=300000)\n",
       "        [1] Row\n",
       "            [0] IntSlider(end=35, name='loyer/m2', start=15, value=25)\n",
       "            [1] IntSlider(end=8000, name='prix/m2', start=3000, value=5000)\n",
       "        [2] Row\n",
       "            [0] FloatSlider(end=3, name='plusvalue - travaux', start=-3, value=1)\n",
       "            [1] IntSlider(end=200000, name='épargne', value=50000)\n",
       "        [3] Row\n",
       "            [0] FloatSlider(name='fraction épargne u..., value=1)\n",
       "            [1] IntSlider(end=16, name='frais notaire + agence', start=7, value=12)\n",
       "        [4] Row\n",
       "            [0] FloatSlider(end=5, name=\"taux d'interêt\", start=1, value=4)\n",
       "            [1] FloatSlider(end=8, name='rendement épargne', start=-8, value=4)\n",
       "    [3] Row\n",
       "        [0] ParamFunction(function, _pane=DataFrame, defer_load=False, width=600)"
      ]
     },
     "execution_count": 5,
     "metadata": {},
     "output_type": "execute_result"
    }
   ],
   "source": [
    "%pip install hvplot\n",
    "%pip install panel\n",
    "%pip install bokeh\n",
    "%pip install jupyter_bokeh\n",
    "\n",
    "import numpy as np\n",
    "import panel as pn\n",
    "import hvplot.pandas\n",
    "import pandas as pd\n",
    "\n",
    "NMAX = 25\n",
    "df = pd.DataFrame({'n' : np.arange(NMAX)})\n",
    "df2 = pd.DataFrame({'n' : np.arange(NMAX)})\n",
    "\n",
    "# MODIFY SLIDER START AND END HERE (START < VALUE < END)\n",
    "variable_widget = pn.widgets.Select(name=\"variable\", value=\"n\", options=list(df.columns)) \n",
    "prix_widget = pn.widgets.IntSlider(name=\"prix d'achat\", value=300_000, start=200_000, end=600_000)\n",
    "apport_widget = pn.widgets.IntSlider(name=\"épargne\", value=50_000, start=0, end=200_000) "renamed "epargne"\n",
    "loyerm2_widget = pn.widgets.IntSlider(name=\"loyer/m2\", value=25, start=15, end=35)\n",
    "prixm2_widget = pn.widgets.IntSlider(name=\"prix/m2\", value=5_000, start=3_000, end=8_000)\n",
    "plusvalue_widget = pn.widgets.FloatSlider(name=\"plusvalue - travaux\", value=1, start=-3, end=3)\n",
    "cac40_widget = pn.widgets.FloatSlider(name=\"rendement épargne\", value=4, start=-8, end=8) # renamed "rendement epargne" \n",
    "taux_widget = pn.widgets.FloatSlider(name=\"taux d'interêt\", value=4, start=1, end=5)\n",
    "apport_ratio_widget = pn.widgets.FloatSlider(name=\"fraction épargne utilisée pour apport\", value=1, start=0, end=1)\n",
    "notaire_widget = pn.widgets.IntSlider(name=\"frais notaire + agence\", value=12, start=7, end=16)\n",
    "monthly_widget = pn.widgets.IntSlider(name=\"mensualité emprunt\", value=2000, start=500, end=3000)\n",
    "\n",
    "\n",
    "\n",
    "def compute_louer_acheter(data, monthly, prix, loyerm2, prixm2, gain, apport, apport_ratio,\n",
    "                          notaire_agence, taux, cac40):\n",
    "    taux = taux/100\n",
    "    cac40 = cac40/100\n",
    "    # louer\n",
    "    ratio = loyerm2/prixm2\n",
    "    data['loyer'] = prix*ratio\n",
    "    data['placement_loc_plusval'] = apport*(1 + cac40)**data['n'] - apport\n",
    "    monthly_savings = monthly - data['loyer']\n",
    "    saved = data['n'] * 12 * monthly_savings\n",
    "    interest_saved = (monthly_savings*12) * (((1 + cac40)**data['n']) - 1)/cac40\n",
    "    data['saved_interest'] = np.where(interest_saved > 0, interest_saved, 0)   \n",
    "    data['louer'] = data['placement_loc_plusval'] + data['saved_interest'] - data['loyer']*12*data['n']\n",
    "    \n",
    "    # acheter\n",
    "    apport_unused = apport*(1-apport_ratio)\n",
    "    data['placement_achat_plusval'] = np.where(interest_saved < 0, -interest_saved, 0) + \\\n",
    "                            apport_unused*(1 + cac40)**data['n'] - apport_unused\n",
    "    data['plusval_tot_achat'] = data['placement_achat_plusval'] + prix*(1+(gain/100))**data['n'] - prix\n",
    "    ratio = loyerm2/prixm2\n",
    "    loyer = prix*ratio\n",
    "    data['cout_fix'] = data['n']*loyer\n",
    "    data['frais_achat'] = prix*(notaire_agence)/100\n",
    "    data['montant_emprunt'] = prix + data['frais_achat'] - apport*apport_ratio\n",
    "    remaining = data['montant_emprunt'] * ((1 + taux)**data['n']) - \\\n",
    "                        (12*monthly/taux)*(((1+taux)**data['n']) - 1)\n",
    "    \n",
    "    data['emprunt remboursé'] = -(remaining < 0)* 120_000\n",
    "    interest = remaining * taux\n",
    "    data['interest'] = np.where(remaining > 0, interest, 0)\n",
    "    payment = monthly - data['interest']/12\n",
    "    data['payment'] = np.where(remaining > 0, payment, 0)\n",
    "    data['remaining'] = np.where(remaining > 0, remaining, 0)\n",
    "    data['pay_cumul'] = np.cumsum(12*data['payment'])\n",
    "    data['int_cumul'] = np.cumsum(data['interest'])\n",
    "    \n",
    "    data['acheter'] = data['plusval_tot_achat'] - data['cout_fix'] - data['int_cumul'] - data['frais_achat']\n",
    "    return data\n",
    "\n",
    "df = hvplot.bind(compute_louer_acheter, df, monthly_widget, prix_widget, loyerm2_widget, prixm2_widget, \n",
    "          plusvalue_widget, \n",
    "          apport_widget, apport_ratio_widget, notaire_widget,\n",
    "          taux_widget, cac40_widget).interactive(width=600)\n",
    "\n",
    "pipeline = (\n",
    "    df['louer'].hvplot(height=400, width=600,  ylim=(-300_000,0), legend=True) *\n",
    "    df['acheter'].hvplot(height=400, width=600,  ylim=(-300_000,0), legend=True) \n",
    "    # df['emprunt remboursé'].hvplot(height=400, width=600,  ylim=(-300_000,0), legend=True, line_width=10)\n",
    ")\n",
    "\n",
    "pn.Column(pn.Row('loyer =', np.round(np.mean(df.loyer)).output()), \n",
    "          pipeline.output(), \n",
    "          pn.Column(\n",
    "            pn.Row(pipeline.widgets()[0], pipeline.widgets()[1]),\n",
    "            pn.Row(pipeline.widgets()[2], pipeline.widgets()[3]),\n",
    "            pn.Row(pipeline.widgets()[4], pipeline.widgets()[5]),\n",
    "            pn.Row(pipeline.widgets()[6], pipeline.widgets()[7]),\n",
    "            pn.Row(pipeline.widgets()[8], pipeline.widgets()[9]),\n",
    "            ),\n",
    "          pn.Row(df[['acheter', 'louer', 'placement_loc_plusval', 'placement_achat_plusval', 'plusval_tot_achat']].output())\n",
    "          ).servable(target='panel')"
   ]
  },
  {
   "cell_type": "code",
   "execution_count": null,
   "metadata": {},
   "outputs": [],
   "source": []
  }
 ],
 "metadata": {
  "kernelspec": {
   "display_name": "Python 3",
   "language": "python",
   "name": "python3"
  },
  "language_info": {
   "codemirror_mode": {
    "name": "ipython",
    "version": 3
   },
   "file_extension": ".py",
   "mimetype": "text/x-python",
   "name": "python",
   "nbconvert_exporter": "python",
   "pygments_lexer": "ipython3",
   "version": "3.10.13"
  }
 },
 "nbformat": 4,
 "nbformat_minor": 2
}
